{
 "cells": [
  {
   "cell_type": "markdown",
   "id": "a24f5012",
   "metadata": {},
   "source": [
    "## Web Scraping Project\n",
    "This project is centered on scraping a website for data that can be used for analysis to get insights.\n",
    "\n",
    "### Objective\n",
    "To scrape the top movies from the imdb website"
   ]
  },
  {
   "cell_type": "code",
   "execution_count": 10,
   "id": "1c136481",
   "metadata": {},
   "outputs": [],
   "source": [
    "# import required libraries\n",
    "from bs4 import BeautifulSoup as soup #to handle html parsing and data extraction\n",
    "import requests #to access website\n",
    "import csv #to create csv file"
   ]
  },
  {
   "cell_type": "code",
   "execution_count": 11,
   "id": "76a1b53e",
   "metadata": {},
   "outputs": [],
   "source": [
    "#copy url link and apply request function\n",
    "url = 'https://www.imdb.com/chart/top/'\n",
    "source = requests.get(url)"
   ]
  },
  {
   "cell_type": "code",
   "execution_count": 12,
   "id": "01fd773b",
   "metadata": {},
   "outputs": [],
   "source": [
    "#use soup to parser html\n",
    "soup1 = soup(source.text, 'html.parser')"
   ]
  },
  {
   "cell_type": "code",
   "execution_count": 13,
   "id": "97b34bb5",
   "metadata": {},
   "outputs": [
    {
     "data": {
      "text/plain": [
       "23"
      ]
     },
     "execution_count": 13,
     "metadata": {},
     "output_type": "execute_result"
    }
   ],
   "source": [
    "#create file to write data in \n",
    "filename = 'imdb_top_250_movies.csv'\n",
    "csv_file = open(filename,'w',newline='') #open new file with 'write' capability\n",
    "csv_writer = csv.writer(csv_file)\n",
    "csv_writer.writerow(['rank','name','year','rating']) #write first row in file"
   ]
  },
  {
   "cell_type": "code",
   "execution_count": 14,
   "id": "0bf29a32",
   "metadata": {},
   "outputs": [],
   "source": [
    "#locate the moveis container from html\n",
    "movies = soup1.find('tbody',class_='lister-list').find_all('tr') #find_all('tr') contains all movies in movie container"
   ]
  },
  {
   "cell_type": "code",
   "execution_count": 15,
   "id": "5d6974e2",
   "metadata": {},
   "outputs": [],
   "source": [
    "#iterate through all movies in container\n",
    "\n",
    "for movie in movies:\n",
    "    name = movie.find('td',class_='titleColumn').a.text #get name from html\n",
    "    rank = movie.find('td',class_='titleColumn').get_text(strip=True).split('.')[0] #get rank\n",
    "    year = movie.find('td',class_='titleColumn').span.text.strip('()') #get year\n",
    "    rating = movie.find('td',class_='ratingColumn imdbRating').strong.text #get rating\n",
    "    #print(rank, name, year, rating)\n",
    "    csv_writer.writerow([rank,name,year,rating]) #write the extracts into the file\n",
    "    \n",
    "csv_file.close() #close file after writing\n",
    "\n"
   ]
  },
  {
   "cell_type": "code",
   "execution_count": null,
   "id": "8447e76a",
   "metadata": {},
   "outputs": [],
   "source": []
  }
 ],
 "metadata": {
  "kernelspec": {
   "display_name": "Python 3 (ipykernel)",
   "language": "python",
   "name": "python3"
  },
  "language_info": {
   "codemirror_mode": {
    "name": "ipython",
    "version": 3
   },
   "file_extension": ".py",
   "mimetype": "text/x-python",
   "name": "python",
   "nbconvert_exporter": "python",
   "pygments_lexer": "ipython3",
   "version": "3.9.7"
  }
 },
 "nbformat": 4,
 "nbformat_minor": 5
}
